{
  "cells": [
    {
      "cell_type": "code",
      "execution_count": 4,
      "metadata": {
        "id": "JD5QMABkIPzW"
      },
      "outputs": [
        {
          "name": "stdout",
          "output_type": "stream",
          "text": [
            "\u001b[1;31merror\u001b[0m: \u001b[1mexternally-managed-environment\u001b[0m\n",
            "\n",
            "\u001b[31m×\u001b[0m This environment is externally managed\n",
            "\u001b[31m╰─>\u001b[0m To install Python packages system-wide, try brew install\n",
            "\u001b[31m   \u001b[0m xyz, where xyz is the package you are trying to\n",
            "\u001b[31m   \u001b[0m install.\n",
            "\u001b[31m   \u001b[0m \n",
            "\u001b[31m   \u001b[0m If you wish to install a non-brew-packaged Python package,\n",
            "\u001b[31m   \u001b[0m create a virtual environment using python3 -m venv path/to/venv.\n",
            "\u001b[31m   \u001b[0m Then use path/to/venv/bin/python and path/to/venv/bin/pip.\n",
            "\u001b[31m   \u001b[0m \n",
            "\u001b[31m   \u001b[0m If you wish to install a non-brew packaged Python application,\n",
            "\u001b[31m   \u001b[0m it may be easiest to use pipx install xyz, which will manage a\n",
            "\u001b[31m   \u001b[0m virtual environment for you. Make sure you have pipx installed.\n",
            "\n",
            "\u001b[1;35mnote\u001b[0m: If you believe this is a mistake, please contact your Python installation or OS distribution provider. You can override this, at the risk of breaking your Python installation or OS, by passing --break-system-packages.\n",
            "\u001b[1;36mhint\u001b[0m: See PEP 668 for the detailed specification.\n"
          ]
        }
      ],
      "source": [
        "!pip3 install -q datasets diffusers transformers accelerate torchmetrics"
      ]
    },
    {
      "cell_type": "markdown",
      "metadata": {
        "id": "1i-ZGPNpH7MD"
      },
      "source": [
        "# Evaluating Diffusion Models\n",
        "\n",
        "Evaluation of generative models like [Stable Diffusion](https://huggingface.co/docs/diffusers/stable_diffusion) is subjective in nature. But as practitioners and researchers, we often have to make careful choices amongst many different possibilities. So, when working with different generative models (like GANs, Diffusion, etc.), how do we choose one over the other?\n",
        "\n",
        "Qualitative evaluation of such models can be error-prone and might incorrectly influence a decision.\n",
        "However, quantitative metrics don't necessarily correspond to image quality. So, usually, a combination\n",
        "of both qualitative and quantitative evaluations provides a stronger signal when choosing one model\n",
        "over the other.\n",
        "\n",
        "In this document, we provide a non-exhaustive overview of qualitative and quantitative methods to evaluate Diffusion models. For quantitative methods, we specifically focus on how to implement them alongside `diffusers`.\n",
        "\n",
        "The methods shown in this document can also be used to evaluate different [noise schedulers](https://huggingface.co/docs/diffusers/main/en/api/schedulers/overview) keeping the underlying generation model fixed."
      ]
    },
    {
      "cell_type": "markdown",
      "metadata": {
        "id": "6gvGd442IAtt"
      },
      "source": [
        "## Scenarios\n",
        "\n",
        "We cover Diffusion models with the following pipelines:\n",
        "\n",
        "- Text-guided image generation (such as the [`StableDiffusionPipeline`](https://huggingface.co/docs/diffusers/main/en/api/pipelines/stable_diffusion/text2img)).\n",
        "- Text-guided image generation, additionally conditioned on an input image (such as the [`StableDiffusionImg2ImgPipeline`](https://huggingface.co/docs/diffusers/main/en/api/pipelines/stable_diffusion/img2img), and [`StableDiffusionInstructPix2PixPipeline`](https://huggingface.co/docs/diffusers/main/en/api/pipelines/stable_diffusion/pix2pix)).\n",
        "- Class-conditioned image generation models (such as the [`DiTPipeline`](https://huggingface.co/docs/diffusers/main/en/api/pipelines/dit))."
      ]
    },
    {
      "cell_type": "markdown",
      "metadata": {
        "id": "zUCEfBYoIEn4"
      },
      "source": [
        "## Qualitative\n",
        "\n",
        "Qualitative evaluation typically involves human assessment of generated images. Quality is measured across aspects such as compositionality, image-text alignment, and spatial relations. Common prompts provide a degree of uniformity for subjective metrics. DrawBench and PartiPrompts are prompt datasets used for qualitative benchmarking. DrawBench and PartiPrompts were introduced by [Imagen](https://imagen.research.google/) and [Parti](https://parti.research.google/) respectively.\n",
        "\n",
        "From the [official Parti website](https://parti.research.google/):\n",
        "\n",
        "> PartiPrompts (P2) is a rich set of over 1600 prompts in English that we release as part of this work. P2 can be used to measure model capabilities across various categories and challenge aspects.\n",
        "\n",
        "![parti-prompts](https://huggingface.co/datasets/diffusers/docs-images/resolve/main/evaluation_diffusion_models/parti-prompts.png)\n",
        "\n",
        "PartiPrompts has the following columns:\n",
        "\n",
        "- Prompt\n",
        "- Category of the prompt (such as “Abstract”, “World Knowledge”, etc.)\n",
        "- Challenge reflecting the difficulty (such as “Basic”, “Complex”, “Writing & Symbols”, etc.)\n",
        "\n",
        "These benchmarks allow for side-by-side human evaluation of different image generation models. Let’s see how we can use `diffusers` on a couple of PartiPrompts.\n",
        "\n",
        "Below we show some prompts sampled across different challenges: Basic, Complex, Linguistic Structures, Imagination, and Writing & Symbols. Here we are using PartiPrompts as a [dataset](https://huggingface.co/datasets/nateraw/parti-prompts)."
      ]
    },
    {
      "cell_type": "code",
      "execution_count": null,
      "metadata": {
        "id": "chISvI6eId8G"
      },
      "outputs": [],
      "source": [
        "from datasets import load_dataset\n",
        "\n",
        "# prompts = load_dataset(\"nateraw/parti-prompts\", split=\"train\")\n",
        "# prompts = prompts.shuffle()\n",
        "# sample_prompts = [prompts[i][\"Prompt\"] for i in range(5)]\n",
        "\n",
        "# Fixing these sample prompts in the interest of reproducibility.\n",
        "sample_prompts = [\n",
        "    \"a corgi\",\n",
        "    \"a hot air balloon with a yin-yang symbol, with the moon visible in the daytime sky\",\n",
        "    \"a car with no windows\",\n",
        "    \"a cube made of porcupine\",\n",
        "    'The saying \"BE EXCELLENT TO EACH OTHER\" written on a red brick wall with a graffiti image of a green alien wearing a tuxedo. A yellow fire hydrant is on a sidewalk in the foreground.',\n",
        "]"
      ]
    },
    {
      "cell_type": "markdown",
      "metadata": {
        "id": "olTlwmwLIi3H"
      },
      "source": [
        "Now we can use these prompts to generate some images using Stable Diffusion ([v1-4 checkpoint](https://huggingface.co/CompVis/stable-diffusion-v1-4)):"
      ]
    },
    {
      "cell_type": "code",
      "execution_count": null,
      "metadata": {
        "id": "Km1utGBTIsFh"
      },
      "outputs": [],
      "source": [
        "from diffusers import StableDiffusionPipeline\n",
        "import torch\n",
        "\n",
        "model_ckpt = \"CompVis/stable-diffusion-v1-4\"\n",
        "device = \"cuda\"\n",
        "weight_dtype = torch.float16\n",
        "sd_pipeline = StableDiffusionPipeline.from_pretrained(model_ckpt, torch_dtype=weight_dtype).to(device)"
      ]
    },
    {
      "cell_type": "code",
      "execution_count": null,
      "metadata": {
        "id": "wRvJ9jdAIgOo"
      },
      "outputs": [],
      "source": [
        "seed = 0\n",
        "generator = torch.manual_seed(seed)\n",
        "\n",
        "images = sd_pipeline(\n",
        "    sample_prompts, num_images_per_prompt=1, generator=generator, output_type=\"numpy\"\n",
        ").images"
      ]
    },
    {
      "cell_type": "markdown",
      "metadata": {
        "id": "tBQjJ36RI-gD"
      },
      "source": [
        "![parti-prompts-14](https://huggingface.co/datasets/diffusers/docs-images/resolve/main/evaluation_diffusion_models/parti-prompts-14.png)\n",
        "\n",
        "We can also set `num_images_per_prompt` accordingly to compare different images for the same prompt. Running the same pipeline but with a different checkpoint ([v1-5](https://huggingface.co/runwayml/stable-diffusion-v1-5)), yields:\n",
        "\n",
        "![parti-prompts-15](https://huggingface.co/datasets/diffusers/docs-images/resolve/main/evaluation_diffusion_models/parti-prompts-15.png)\n",
        "\n",
        "Once several images are generated from all the prompts using multiple models (under evaluation), these results are presented to human evaluators for scoring. For\n",
        "more details on these benchmarks, refer to their respective papers.  \n",
        "\n",
        "> 💡 **Tip:** It is useful to look at some inference samples while a model is training to measure the\n",
        "training progress. In our [training scripts](https://github.com/huggingface/diffusers/tree/main/examples/), we support this utility with additional support for\n",
        "logging to TensorBoard and Weights & Biases."
      ]
    },
    {
      "cell_type": "markdown",
      "metadata": {
        "id": "dZTRuU7kJgXx"
      },
      "source": [
        "## Quantitative Evaluation\n",
        "\n",
        "In this section, we will walk you through how to evaluate three different diffusion pipelines using:\n",
        "\n",
        "- CLIP score\n",
        "- CLIP directional similarity\n",
        "- FID"
      ]
    },
    {
      "cell_type": "markdown",
      "metadata": {
        "id": "Pj19rZMQJo6w"
      },
      "source": [
        "### Text-guided image generation\n",
        "\n",
        "[CLIP score](https://arxiv.org/abs/2104.08718) measures the compatibility of image-caption pairs. Higher CLIP scores imply higher compatibility 🔼. The CLIP score is a quantitative measurement of the qualitative concept \"compatibility\". Image-caption pair compatibility can also be thought of as the semantic similarity between the image and the caption. CLIP score was found to have high correlation with human judgement."
      ]
    },
    {
      "cell_type": "markdown",
      "metadata": {
        "id": "ZlCWSsmWJ8lk"
      },
      "source": [
        "Generate some images with multiple prompts:"
      ]
    },
    {
      "cell_type": "code",
      "execution_count": null,
      "metadata": {
        "id": "ZOi4We6aJ5CK"
      },
      "outputs": [],
      "source": [
        "prompts = [\n",
        "    \"A dog lying on the floor, highly detailed, ultra sharp, cinematic, 100mm lens, 8k resolution\",\n",
        "    \"A child brushing his teeth, highly detailed, ultra sharp, cinematic, 100mm lens, 8k resolution\",\n",
        "    \"Two goats talking to each other on a farm, highly detailed, ultra sharp, cinematic, 100mm lens, 8k resolution\",\n",
        "    \"A dog running on grass, highly detailed, ultra sharp, cinematic, 100mm lens, 8k resolution\",\n",
        "    \"A cat stretching on the floor, highly detailed, ultra sharp, cinematic, 100mm lens, 8k resolution\",\n",
        "    \"Expressive oil painting of two chickens talking to each other on a farm, highly detailed, ultra sharp, cinematic, 100mm lens, 8k resolution\",\n",
        "    \"An animated girl with pink hair stretching on the floor, pixel art, highly detailed, ultra sharp, cinematic, 100mm lens, 8k resolution\",\n",
        "    \"A cute robot holding a watering can, watering a plant, minimalist style, highly detailed, ultra sharp, cinematic, 100mm lens, 8k resolution\",\n",
        "    \"Line drawing art of a cute robot holding a watering can, watering a plant, minimalist style\"\n",
        "]\n",
        "\n",
        "images = sd_pipeline(prompts, num_images_per_prompt=1, output_type=\"numpy\").images\n",
        "\n",
        "print(images.shape)"
      ]
    },
    {
      "cell_type": "markdown",
      "metadata": {
        "id": "33hHcUIRKN5t"
      },
      "source": [
        "And then, we calculate the CLIP score."
      ]
    },
    {
      "cell_type": "code",
      "execution_count": null,
      "metadata": {
        "id": "kVkhY0eSKEJO"
      },
      "outputs": [],
      "source": [
        "from torchmetrics.functional.multimodal import clip_score\n",
        "from functools import partial\n",
        "\n",
        "clip_score_fn = partial(clip_score, model_name_or_path=\"openai/clip-vit-base-patch16\")\n",
        "\n",
        "\n",
        "def calculate_clip_score(images, prompts):\n",
        "    images_int = (images * 255).astype(\"uint8\")\n",
        "    clip_score = clip_score_fn(torch.from_numpy(images_int).permute(0, 3, 1, 2), prompts).detach()\n",
        "    return round(float(clip_score), 4)\n",
        "\n",
        "\n",
        "sd_clip_score = calculate_clip_score(images, prompts)\n",
        "print(f\"CLIP score: {sd_clip_score}\")"
      ]
    },
    {
      "cell_type": "markdown",
      "metadata": {
        "id": "FRIyfAfDKXxs"
      },
      "source": [
        "In the above example, we generated one image per prompt. If we generated multiple images per prompt, we would have to take the average score from the generated images per prompt.\n",
        "\n",
        "Now, if we wanted to compare two checkpoints compatible with the [`StableDiffusionPipeline`](https://huggingface.co/docs/diffusers/api/pipelines/stable_diffusion/overview) we should pass a generator while calling the pipeline. First, we generate images with a fixed seed with the [v1-4 Stable Diffusion checkpoint](https://huggingface.co/CompVis/stable-diffusion-v1-4):\n"
      ]
    },
    {
      "cell_type": "code",
      "execution_count": null,
      "metadata": {
        "id": "EFEaAMA1MMyh"
      },
      "outputs": [],
      "source": [
        "seed = 0\n",
        "generator = torch.manual_seed(seed)\n",
        "\n",
        "images = sd_pipeline(prompts, num_images_per_prompt=1, generator=generator, output_type=\"numpy\").images"
      ]
    },
    {
      "cell_type": "markdown",
      "metadata": {
        "id": "C33LE-TyMkQc"
      },
      "source": [
        "Then we load the [v1-5 checkpoint](https://huggingface.co/runwayml/stable-diffusion-v1-5) to generate images:"
      ]
    },
    {
      "cell_type": "code",
      "execution_count": null,
      "metadata": {
        "id": "--hT81FZKTNB"
      },
      "outputs": [],
      "source": [
        "model_ckpt_1_5 = \"runwayml/stable-diffusion-v1-5\"\n",
        "sd_pipeline_1_5 = StableDiffusionPipeline.from_pretrained(model_ckpt_1_5, torch_dtype=weight_dtype).to(device)\n",
        "\n",
        "images_1_5 = sd_pipeline_1_5(\n",
        "    prompts, num_images_per_prompt=1, generator=generator, output_type=\"numpy\"\n",
        ").images"
      ]
    },
    {
      "cell_type": "markdown",
      "metadata": {
        "id": "8ZDirfKxM2S6"
      },
      "source": [
        "And finally, we compare their CLIP scores:"
      ]
    },
    {
      "cell_type": "code",
      "execution_count": null,
      "metadata": {
        "id": "MqrrBncQK_FP"
      },
      "outputs": [],
      "source": [
        "sd_clip_score_1_4 = calculate_clip_score(images, prompts)\n",
        "print(f\"CLIP Score with v-1-4: {sd_clip_score_1_4}\")\n",
        "\n",
        "sd_clip_score_1_5 = calculate_clip_score(images_1_5, prompts)\n",
        "print(f\"CLIP Score with v-1-5: {sd_clip_score_1_5}\")"
      ]
    },
    {
      "cell_type": "markdown",
      "metadata": {
        "id": "GTOQA3eHM9tJ"
      },
      "source": [
        "It seems like the [v1-5](https://huggingface.co/runwayml/stable-diffusion-v1-5) checkpoint performs better than its predecessor. Note, however, that the number of prompts we used to compute the CLIP scores is quite low. For a more practical evaluation, this number should be way higher, and the prompts should be diverse.\n",
        "\n",
        "> 💡 **Tip:** By construction, there are some limitations in this score. The captions in the training dataset\n",
        "were crawled from the web and extracted from `alt` and similar tags associated an image on the internet.\n",
        "They are not necessarily representative of what a human being would use to describe an image. Hence we\n",
        "had to \"engineer\" some prompts here."
      ]
    },
    {
      "cell_type": "markdown",
      "metadata": {
        "id": "VWifFYAtNS8I"
      },
      "source": [
        "### Image-conditioned text-to-image generation\n",
        "\n",
        "In this case, we condition the generation pipeline with an input image as well as a text prompt. Let's take the [`StableDiffusionInstructPix2PixPipeline`], as an example. It takes an edit instruction as an input prompt and an input image to be edited.\n",
        "\n",
        "Here is one example:\n",
        "\n",
        "![edit-instruction](https://huggingface.co/datasets/diffusers/docs-images/resolve/main/evaluation_diffusion_models/edit-instruction.png)\n",
        "\n",
        "One strategy to evaluate such a model is to measure the consistency of the change between the two images (in [CLIP](https://huggingface.co/docs/transformers/model_doc/clip) space) with the change between the two image captions (as shown in [CLIP-Guided Domain Adaptation of Image Generators](https://arxiv.org/abs/2108.00946)). This is referred to as the \"**CLIP directional similarity**\".\n",
        "\n",
        "- Caption 1 corresponds to the input image (image 1) that is to be edited.\n",
        "- Caption 2 corresponds to the edited image (image 2). It should reflect the edit instruction.\n",
        "\n",
        "Following is a pictorial overview:\n",
        "\n",
        "![edit-consistency](https://huggingface.co/datasets/diffusers/docs-images/resolve/main/evaluation_diffusion_models/edit-consistency.png)\n",
        "\n",
        "We have prepared a mini dataset to implement this metric. Let's first load the dataset.\n"
      ]
    },
    {
      "cell_type": "code",
      "execution_count": null,
      "metadata": {
        "id": "xNm95c_HNbTG"
      },
      "outputs": [],
      "source": [
        "from datasets import load_dataset\n",
        "\n",
        "dataset = load_dataset(\"sayakpaul/instructpix2pix-demo\", split=\"train\")\n",
        "dataset.features"
      ]
    },
    {
      "cell_type": "markdown",
      "metadata": {
        "id": "8StRUV6nNhgD"
      },
      "source": [
        "Here we have:\n",
        "\n",
        "- `input` is a caption corresponding to the `image`.\n",
        "- `edit` denotes the edit instruction.\n",
        "- `output` denotes the modified caption reflecting the `edit` instruction.\n",
        "\n",
        "Let's take a look at a sample."
      ]
    },
    {
      "cell_type": "code",
      "execution_count": null,
      "metadata": {
        "id": "clJoVdNgNc9x"
      },
      "outputs": [],
      "source": [
        "idx = 0\n",
        "print(f\"Original caption: {dataset[idx]['input']}\")\n",
        "print(f\"Edit instruction: {dataset[idx]['edit']}\")\n",
        "print(f\"Modified caption: {dataset[idx]['output']}\")"
      ]
    },
    {
      "cell_type": "markdown",
      "metadata": {
        "id": "2M0FgmCVN1Sr"
      },
      "source": [
        "And here is the image:"
      ]
    },
    {
      "cell_type": "code",
      "execution_count": null,
      "metadata": {
        "id": "2iI3KODTNs4i"
      },
      "outputs": [],
      "source": [
        "dataset[idx][\"image\"]"
      ]
    },
    {
      "cell_type": "markdown",
      "metadata": {
        "id": "PyRNuOG8N9IT"
      },
      "source": [
        "We will first edit the images of our dataset with the edit instruction and compute the directional similarity.\n",
        "\n",
        "Let's first load the [`StableDiffusionInstructPix2PixPipeline`](https://huggingface.co/docs/diffusers/api/pipelines/stable_diffusion/pix2pix):"
      ]
    },
    {
      "cell_type": "code",
      "execution_count": null,
      "metadata": {
        "id": "FQIG_b77N4QS"
      },
      "outputs": [],
      "source": [
        "from diffusers import StableDiffusionInstructPix2PixPipeline\n",
        "\n",
        "instruct_pix2pix_pipeline = StableDiffusionInstructPix2PixPipeline.from_pretrained(\n",
        "    \"timbrooks/instruct-pix2pix\", torch_dtype=torch.float16\n",
        ").to(device)"
      ]
    },
    {
      "cell_type": "markdown",
      "metadata": {
        "id": "8vKifv6IPaKX"
      },
      "source": [
        "Now, we perform the edits:"
      ]
    },
    {
      "cell_type": "code",
      "execution_count": null,
      "metadata": {
        "id": "fU3K5c8DPS8E"
      },
      "outputs": [],
      "source": [
        "import numpy as np\n",
        "\n",
        "\n",
        "def edit_image(input_image, instruction):\n",
        "    image = instruct_pix2pix_pipeline(\n",
        "        instruction,\n",
        "        image=input_image,\n",
        "        output_type=\"numpy\",\n",
        "        generator=generator,\n",
        "    ).images[0]\n",
        "    return image\n",
        "\n",
        "\n",
        "input_images = []\n",
        "original_captions = []\n",
        "modified_captions = []\n",
        "edited_images = []\n",
        "\n",
        "for idx in range(len(dataset)):\n",
        "    input_image = dataset[idx][\"image\"]\n",
        "    edit_instruction = dataset[idx][\"edit\"]\n",
        "    edited_image = edit_image(input_image, edit_instruction)\n",
        "\n",
        "    input_images.append(np.array(input_image))\n",
        "    original_captions.append(dataset[idx][\"input\"])\n",
        "    modified_captions.append(dataset[idx][\"output\"])\n",
        "    edited_images.append(edited_image)"
      ]
    },
    {
      "cell_type": "markdown",
      "metadata": {
        "id": "stTokfJ-QQhm"
      },
      "source": [
        "To measure the directional similarity, we first load CLIP's image and text encoders."
      ]
    },
    {
      "cell_type": "code",
      "execution_count": null,
      "metadata": {
        "id": "28LOfZUsP4uF"
      },
      "outputs": [],
      "source": [
        "from transformers import (\n",
        "    CLIPTokenizer,\n",
        "    CLIPTextModelWithProjection,\n",
        "    CLIPVisionModelWithProjection,\n",
        "    CLIPImageProcessor,\n",
        ")\n",
        "\n",
        "clip_id = \"openai/clip-vit-large-patch14\"\n",
        "tokenizer = CLIPTokenizer.from_pretrained(clip_id)\n",
        "text_encoder = CLIPTextModelWithProjection.from_pretrained(clip_id).to(device)\n",
        "image_processor = CLIPImageProcessor.from_pretrained(clip_id)\n",
        "image_encoder = CLIPVisionModelWithProjection.from_pretrained(clip_id).to(device)"
      ]
    },
    {
      "cell_type": "markdown",
      "metadata": {
        "id": "EUjRmvydQbkO"
      },
      "source": [
        "Notice that we are using a particular CLIP checkpoint, i.e., `openai/clip-vit-large-patch14`. This is because the Stable Diffusion pre-training was performed with this CLIP variant. For more details, refer to the [documentation](https://huggingface.co/docs/diffusers/main/en/api/pipelines/stable_diffusion/pix2pix#diffusers.StableDiffusionInstructPix2PixPipeline.text_encoder).\n",
        "\n",
        "Next, we prepare a PyTorch `nn.module` to compute directional similarity:"
      ]
    },
    {
      "cell_type": "code",
      "execution_count": null,
      "metadata": {
        "id": "lntzymk0QVUW"
      },
      "outputs": [],
      "source": [
        "import torch.nn as nn\n",
        "import torch.nn.functional as F\n",
        "\n",
        "\n",
        "class DirectionalSimilarity(nn.Module):\n",
        "    def __init__(self, tokenizer, text_encoder, image_processor, image_encoder):\n",
        "        super().__init__()\n",
        "        self.tokenizer = tokenizer\n",
        "        self.text_encoder = text_encoder\n",
        "        self.image_processor = image_processor\n",
        "        self.image_encoder = image_encoder\n",
        "\n",
        "    def preprocess_image(self, image):\n",
        "        image = self.image_processor(image, return_tensors=\"pt\")[\"pixel_values\"]\n",
        "        return {\"pixel_values\": image.to(device)}\n",
        "\n",
        "    def tokenize_text(self, text):\n",
        "        inputs = self.tokenizer(\n",
        "            text,\n",
        "            max_length=self.tokenizer.model_max_length,\n",
        "            padding=\"max_length\",\n",
        "            truncation=True,\n",
        "            return_tensors=\"pt\",\n",
        "        )\n",
        "        return {\"input_ids\": inputs.input_ids.to(device)}\n",
        "\n",
        "    def encode_image(self, image):\n",
        "        preprocessed_image = self.preprocess_image(image)\n",
        "        image_features = self.image_encoder(**preprocessed_image).image_embeds\n",
        "        image_features = image_features / image_features.norm(dim=1, keepdim=True)\n",
        "        return image_features\n",
        "\n",
        "    def encode_text(self, text):\n",
        "        tokenized_text = self.tokenize_text(text)\n",
        "        text_features = self.text_encoder(**tokenized_text).text_embeds\n",
        "        text_features = text_features / text_features.norm(dim=1, keepdim=True)\n",
        "        return text_features\n",
        "\n",
        "    def compute_directional_similarity(self, img_feat_one, img_feat_two, text_feat_one, text_feat_two):\n",
        "        sim_direction = F.cosine_similarity(img_feat_two - img_feat_one, text_feat_two - text_feat_one)\n",
        "        return sim_direction\n",
        "\n",
        "    def forward(self, image_one, image_two, caption_one, caption_two):\n",
        "        img_feat_one = self.encode_image(image_one)\n",
        "        img_feat_two = self.encode_image(image_two)\n",
        "        text_feat_one = self.encode_text(caption_one)\n",
        "        text_feat_two = self.encode_text(caption_two)\n",
        "        directional_similarity = self.compute_directional_similarity(\n",
        "            img_feat_one, img_feat_two, text_feat_one, text_feat_two\n",
        "        )\n",
        "        return directional_similarity"
      ]
    },
    {
      "cell_type": "markdown",
      "metadata": {
        "id": "VEZZV1p_Qq4i"
      },
      "source": [
        "Let's put `DirectionalSimilarity` to use now."
      ]
    },
    {
      "cell_type": "code",
      "execution_count": null,
      "metadata": {
        "id": "Uisv-tolQnaf"
      },
      "outputs": [],
      "source": [
        "dir_similarity = DirectionalSimilarity(tokenizer, text_encoder, image_processor, image_encoder)\n",
        "scores = []\n",
        "\n",
        "for i in range(len(input_images)):\n",
        "    original_image = input_images[i]\n",
        "    original_caption = original_captions[i]\n",
        "    edited_image = edited_images[i]\n",
        "    modified_caption = modified_captions[i]\n",
        "\n",
        "    similarity_score = dir_similarity(original_image, edited_image, original_caption, modified_caption)\n",
        "    scores.append(float(similarity_score.detach().cpu()))\n",
        "\n",
        "print(f\"CLIP directional similarity: {np.mean(scores)}\")"
      ]
    },
    {
      "cell_type": "markdown",
      "metadata": {
        "id": "i31LOwniRH8w"
      },
      "source": [
        "Like the CLIP Score, the higher the CLIP directional similarity, the better it is.\n",
        "\n",
        "It should be noted that the `StableDiffusionInstructPix2PixPipeline` exposes two arguments, namely, `image_guidance_scale` and `guidance_scale` that let you control the quality of the final edited image. We encourage you to experiment with these two arguments and see the impact of that on the directional similarity.\n",
        "\n",
        "We can extend the idea of this metric to measure how similar the original image and edited version are. To do that, we can just do `F.cosine_similarity(img_feat_two, img_feat_one)`. For these kinds of edits, we would still want the primary semantics of the images to be preserved as much as possible, i.e., a high similarity score.\n",
        "\n",
        "We can use these metrics for similar pipelines such as the[`StableDiffusionPix2PixZeroPipeline`](https://huggingface.co/docs/diffusers/main/en/api/pipelines/stable_diffusion/pix2pix_zero#diffusers.StableDiffusionPix2PixZeroPipeline)`.\n",
        "\n",
        "> **Info**: Both CLIP score and CLIP direction similarity rely on the CLIP model, which can make the evaluations biased.\n",
        "\n",
        "***Extending metrics like IS, FID (discussed later), or KID can be difficult*** when the model under evaluation was pre-trained on a large image-captioning dataset (such as the [LAION-5B dataset](https://laion.ai/blog/laion-5b/)). This is because underlying these metrics is an InceptionNet (pre-trained on the ImageNet-1k dataset) used for extracting intermediate image features. The pre-training dataset of Stable Diffusion may have limited overlap with the pre-training dataset of InceptionNet, so it is not a good candidate here for feature extraction.\n",
        "\n",
        "***Using the above metrics helps evaluate models that are class-conditioned. For example, [DiT](https://huggingface.co/docs/diffusers/main/en/api/pipelines/stable_diffusion/overview). It was pre-trained being conditioned on the ImageNet-1k classes.***\n"
      ]
    },
    {
      "cell_type": "markdown",
      "metadata": {
        "id": "w1TZD08CRaGh"
      },
      "source": [
        "### Class-conditioned image generation\n",
        "\n",
        "Class-conditioned generative models are usually pre-trained on a class-labeled dataset such as [ImageNet-1k](https://huggingface.co/datasets/imagenet-1k). Popular metrics for evaluating these models include Fréchet Inception Distance (FID), Kernel Inception Distance (KID), and Inception Score (IS). In this document, we focus on FID ([Heusel et al.](https://arxiv.org/abs/1706.08500)). We show how to compute it with the [`DiTPipeline`](https://huggingface.co/docs/diffusers/api/pipelines/dit), which uses the [DiT model](https://arxiv.org/abs/2212.09748) under the hood.\n",
        "\n",
        "FID aims to measure how similar are two datasets of images. As per [this resource](https://mmgeneration.readthedocs.io/en/latest/quick_run.html#fid):\n",
        "\n",
        "> Fréchet Inception Distance is a measure of similarity between two datasets of images. It was shown to correlate well with the human judgment of visual quality and is most often used to evaluate the quality of samples of Generative Adversarial Networks. FID is calculated by computing the Fréchet distance between two Gaussians fitted to feature representations of the Inception network.\n",
        "\n",
        "These two datasets are essentially the dataset of real images and the dataset of fake images (generated images in our case). FID is usually calculated with two large datasets. However, for this document, we will work with two mini datasets.\n",
        "\n",
        "Let's first download a few images from the ImageNet-1k training set:"
      ]
    },
    {
      "cell_type": "code",
      "execution_count": null,
      "metadata": {
        "id": "ZBC-hpTnQ_Ws"
      },
      "outputs": [],
      "source": [
        "from zipfile import ZipFile\n",
        "import requests\n",
        "\n",
        "\n",
        "def download(url, local_filepath):\n",
        "    r = requests.get(url)\n",
        "    with open(local_filepath, \"wb\") as f:\n",
        "        f.write(r.content)\n",
        "    return local_filepath\n",
        "\n",
        "\n",
        "dummy_dataset_url = \"https://hf.co/datasets/sayakpaul/sample-datasets/resolve/main/sample-imagenet-images.zip\"\n",
        "local_filepath = download(dummy_dataset_url, dummy_dataset_url.split(\"/\")[-1])\n",
        "\n",
        "with ZipFile(local_filepath, \"r\") as zipper:\n",
        "    zipper.extractall(\".\")"
      ]
    },
    {
      "cell_type": "code",
      "execution_count": null,
      "metadata": {
        "id": "gsvchOdzRhb_"
      },
      "outputs": [],
      "source": [
        "from PIL import Image\n",
        "import os\n",
        "\n",
        "dataset_path = \"sample-imagenet-images\"\n",
        "image_paths = sorted([os.path.join(dataset_path, x) for x in os.listdir(dataset_path)])\n",
        "\n",
        "real_images = [np.array(Image.open(path).convert(\"RGB\")) for path in image_paths]"
      ]
    },
    {
      "cell_type": "markdown",
      "metadata": {
        "id": "YlkqatvoRpOA"
      },
      "source": [
        "These are 10 images from the following Imagenet-1k classes: \"cassette_player\", \"chain_saw\" (x2), \"church\", \"gas_pump\" (x3), \"parachute\" (x2), and \"tench\".\n",
        "\n",
        "Now that the images are loaded, let's apply some lightweight pre-processing on them to use them for FID calculation."
      ]
    },
    {
      "cell_type": "code",
      "execution_count": null,
      "metadata": {
        "id": "czdDnuxHRlGv"
      },
      "outputs": [],
      "source": [
        "from torchvision.transforms import functional as F\n",
        "\n",
        "\n",
        "def preprocess_image(image):\n",
        "    image = torch.tensor(image).unsqueeze(0)\n",
        "    image = image.permute(0, 3, 1, 2) / 255.0\n",
        "    return F.center_crop(image, (256, 256))\n",
        "\n",
        "\n",
        "real_images = torch.cat([preprocess_image(image) for image in real_images])\n",
        "print(real_images.shape)"
      ]
    },
    {
      "cell_type": "markdown",
      "metadata": {
        "id": "M5ZOnWlQRzhU"
      },
      "source": [
        "We now load the [`DiTPipeline`](https://huggingface.co/docs/diffusers/api/pipelines/dit) to generate images conditioned on the above-mentioned classes.\n"
      ]
    },
    {
      "cell_type": "code",
      "execution_count": null,
      "metadata": {
        "id": "Ah4UqLM5RuMr"
      },
      "outputs": [],
      "source": [
        "from diffusers import DiTPipeline, DPMSolverMultistepScheduler\n",
        "\n",
        "dit_pipeline = DiTPipeline.from_pretrained(\"facebook/DiT-XL-2-256\", torch_dtype=torch.float16)\n",
        "dit_pipeline.scheduler = DPMSolverMultistepScheduler.from_config(dit_pipeline.scheduler.config)\n",
        "dit_pipeline = dit_pipeline.to(\"cuda\")"
      ]
    },
    {
      "cell_type": "code",
      "execution_count": null,
      "metadata": {
        "id": "ms2N_knxSH_C"
      },
      "outputs": [],
      "source": [
        "words = [\n",
        "    \"cassette player\",\n",
        "    \"chainsaw\",\n",
        "    \"chainsaw\",\n",
        "    \"church\",\n",
        "    \"gas pump\",\n",
        "    \"gas pump\",\n",
        "    \"gas pump\",\n",
        "    \"parachute\",\n",
        "    \"parachute\",\n",
        "    \"tench\",\n",
        "]\n",
        "\n",
        "class_ids = dit_pipeline.get_label_ids(words)\n",
        "output = dit_pipeline(class_labels=class_ids, generator=generator, output_type=\"numpy\")\n",
        "\n",
        "fake_images = output.images\n",
        "fake_images = torch.tensor(fake_images)\n",
        "fake_images = fake_images.permute(0, 3, 1, 2)\n",
        "print(fake_images.shape)"
      ]
    },
    {
      "cell_type": "markdown",
      "metadata": {
        "id": "7GIKN2VPSWXV"
      },
      "source": [
        "Now, we can compute the FID using [`torchmetrics`](https://torchmetrics.readthedocs.io/)."
      ]
    },
    {
      "cell_type": "code",
      "execution_count": null,
      "metadata": {
        "id": "vd9Wb13sS3us"
      },
      "outputs": [],
      "source": [
        "from torchmetrics.image.fid import FrechetInceptionDistance\n",
        "\n",
        "fid = FrechetInceptionDistance(normalize=True)\n",
        "fid.update(real_images, real=True)\n",
        "fid.update(fake_images, real=False)\n",
        "\n",
        "print(f\"FID: {float(fid.compute())}\")"
      ]
    },
    {
      "cell_type": "markdown",
      "metadata": {
        "id": "TQjOs-KXS-R4"
      },
      "source": [
        "The lower the FID, the better it is. Several things can influence FID here:\n",
        "\n",
        "- Number of images (both real and fake)\n",
        "- Randomness induced in the diffusion process\n",
        "- Number of inference steps in the diffusion process\n",
        "- The scheduler being used in the diffusion process\n",
        "\n",
        "For the last two points, it is, therefore, a good practice to run the evaluation across different seeds and inference steps, and then report an average result.\n",
        "\n",
        "FID results tend to be fragile as they depend on a lot of factors:\n",
        "\n",
        "* The specific Inception model used during computation.\n",
        "* The implementation accuracy of the computation.\n",
        "* The image format (not the same if we start from PNGs vs JPGs).\n",
        "\n",
        "Keeping that in mind, FID is often most useful when comparing similar runs, but it is\n",
        "hard to to reproduce paper results unless the authors carefully disclose the FID\n",
        "measurement code.\n",
        "\n",
        "These points apply to other related metrics too, such as KID and IS.\n",
        "\n",
        "As a final step, let's visually inspect the `fake_images` and `real_images`, respectively."
      ]
    },
    {
      "cell_type": "code",
      "execution_count": null,
      "metadata": {
        "id": "Ufqql2PtTuLW"
      },
      "outputs": [],
      "source": [
        "import matplotlib.pyplot as plt\n",
        "\n",
        "plt.figure(figsize=(15, 5))\n",
        "for i in range(len(fake_images)):\n",
        "    ax = plt.subplot(2, 5, i + 1)\n",
        "    plt.imshow(fake_images[i].numpy().transpose(1, 2, 0))\n",
        "    plt.axis(\"off\")"
      ]
    },
    {
      "cell_type": "code",
      "execution_count": null,
      "metadata": {
        "id": "5ll-ZVxBT16X"
      },
      "outputs": [],
      "source": [
        "plt.figure(figsize=(15, 5))\n",
        "for i in range(len(real_images)):\n",
        "    ax = plt.subplot(2, 5, i + 1)\n",
        "    plt.imshow(real_images[i].numpy().transpose(1, 2, 0))\n",
        "    plt.axis(\"off\")"
      ]
    }
  ],
  "metadata": {
    "accelerator": "GPU",
    "colab": {
      "gpuClass": "premium",
      "machine_shape": "hm",
      "provenance": []
    },
    "gpuClass": "premium",
    "kernelspec": {
      "display_name": "Python 3",
      "name": "python3"
    },
    "language_info": {
      "codemirror_mode": {
        "name": "ipython",
        "version": 3
      },
      "file_extension": ".py",
      "mimetype": "text/x-python",
      "name": "python",
      "nbconvert_exporter": "python",
      "pygments_lexer": "ipython3",
      "version": "3.10.11"
    }
  },
  "nbformat": 4,
  "nbformat_minor": 0
}
